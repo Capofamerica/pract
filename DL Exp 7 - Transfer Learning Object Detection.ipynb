{
 "cells": [
  {
   "cell_type": "code",
   "execution_count": 59,
   "id": "e9529ba2",
   "metadata": {},
   "outputs": [],
   "source": [
    "from tensorflow.keras.preprocessing.image import load_img\n",
    "from tensorflow.keras.preprocessing.image import img_to_array\n",
    "from keras.applications.vgg16 import preprocess_input\n",
    "from keras.applications.vgg16 import decode_predictions\n",
    "from keras.applications.vgg16 import VGG16"
   ]
  },
  {
   "cell_type": "code",
   "execution_count": 60,
   "id": "9ccd50f1",
   "metadata": {},
   "outputs": [],
   "source": [
    "# load image\n",
    "\n",
    "image = load_img(r'C:\\Users\\Mrunal Rajput\\Desktop\\golden.jpeg',target_size = (224,224))\n",
    "#image"
   ]
  },
  {
   "cell_type": "code",
   "execution_count": 61,
   "id": "be158cf1",
   "metadata": {},
   "outputs": [],
   "source": [
    "# Image to Array\n",
    "\n",
    "image = img_to_array(image)\n",
    "#image"
   ]
  },
  {
   "cell_type": "code",
   "execution_count": 52,
   "id": "a8daa68a",
   "metadata": {},
   "outputs": [],
   "source": [
    "# Reshape the Array Values according to the VGG16\n",
    "\n",
    "image = image.reshape((1, image.shape[0], image.shape[1], image.shape[2]))\n",
    "#image"
   ]
  },
  {
   "cell_type": "code",
   "execution_count": 53,
   "id": "80f31ace",
   "metadata": {},
   "outputs": [],
   "source": [
    "# Preprocessing the array values according to the VGG16 model\n",
    "\n",
    "image = preprocess_input(image)"
   ]
  },
  {
   "cell_type": "code",
   "execution_count": 54,
   "id": "9074430b",
   "metadata": {},
   "outputs": [],
   "source": [
    "# Model creation\n",
    "\n",
    "model = VGG16()"
   ]
  },
  {
   "cell_type": "code",
   "execution_count": 55,
   "id": "08fef767",
   "metadata": {},
   "outputs": [
    {
     "name": "stdout",
     "output_type": "stream",
     "text": [
      "1/1 [==============================] - 2s 2s/step\n"
     ]
    }
   ],
   "source": [
    "# Passing the image for object detection\n",
    "\n",
    "detection = model.predict(image)"
   ]
  },
  {
   "cell_type": "code",
   "execution_count": 56,
   "id": "0b3c4ca5",
   "metadata": {},
   "outputs": [],
   "source": [
    "# Getting the Labels with Probabiities\n",
    "\n",
    "label = decode_predictions(detection)"
   ]
  },
  {
   "cell_type": "code",
   "execution_count": 57,
   "id": "718c1e44",
   "metadata": {},
   "outputs": [],
   "source": [
    "# Selecting the Label with highest Probabilities\n",
    "\n",
    "label = label[0][0]"
   ]
  },
  {
   "cell_type": "code",
   "execution_count": 58,
   "id": "012f84be",
   "metadata": {},
   "outputs": [
    {
     "name": "stdout",
     "output_type": "stream",
     "text": [
      "the object detected is  golden_retriever \n",
      "the accuracy of detection is  82.96515941619873 %\n"
     ]
    }
   ],
   "source": [
    "# Displaying the Object detected and accuracy\n",
    "\n",
    "print('the object detected is ',label[1], '\\n' 'the accuracy of detection is ', 100*label[2],'%')\n"
   ]
  },
  {
   "cell_type": "code",
   "execution_count": null,
   "id": "1fe9a7de",
   "metadata": {},
   "outputs": [],
   "source": []
  }
 ],
 "metadata": {
  "kernelspec": {
   "display_name": "Python 3 (ipykernel)",
   "language": "python",
   "name": "python3"
  },
  "language_info": {
   "codemirror_mode": {
    "name": "ipython",
    "version": 3
   },
   "file_extension": ".py",
   "mimetype": "text/x-python",
   "name": "python",
   "nbconvert_exporter": "python",
   "pygments_lexer": "ipython3",
   "version": "3.8.10"
  }
 },
 "nbformat": 4,
 "nbformat_minor": 5
}
